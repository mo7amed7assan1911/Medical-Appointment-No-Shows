{
 "cells": [
  {
   "cell_type": "markdown",
   "metadata": {},
   "source": [
    "# Predecting if patients will miss their scheduled appointments or not.\n",
    "\n",
    "## Table of Contents\n",
    "<ul>\n",
    "<li><a href=\"#intro\">Introduction</a></li>\n",
    "<li><a href=\"#wrangling\">Data Wrangling</a></li>\n",
    "<li><a href=\"#eda\">Exploratory Data Analysis</a></li>\n",
    "<li><a href=\"#conclusions\">Conclusions</a></li>\n",
    "</ul>"
   ]
  },
  {
   "cell_type": "markdown",
   "metadata": {},
   "source": [
    "<a id='intro'></a>\n",
    "## Introduction\n",
    "\n",
    "### Dataset Description \n",
    "\n",
    "> This dataset collects information from 100k medical appointments in Brazil and is focused on the question of whether or not patients show up for their appointment.\n",
    ">\n",
    "> Description of all features and the data itself is [here](https://www.kaggle.com/datasets/joniarroba/noshowappointments)\n",
    ">\n",
    "> **My GitHub** repo for the project [here](https://github.com/mo7amed7assan1911/Medical-Appointment-No-Shows)\n",
    ">\n",
    "> Some of them:\n",
    ">    * **‘ScheduledDay’** tells us on what day the patient set up their appointment.\n",
    ">    * **‘Neighborhood’** indicates the location of the hospital.\n",
    ">    * **‘Scholarship’** indicates whether or not the patient is enrolled in Brasilian welfare program Bolsa Família.  \n",
    ">    * **Be careful about the encoding of the last column: it says ‘No’ if the patient showed up to their appointment, and ‘Yes’ if they did not show up.**\n",
    "\n",
    "### Questions for Analysis we need to answer.\n",
    ">\n",
    ">    1. What is the most days for showing up and No-showing up?\n",
    ">    2. Is the increase in the number of waiting days affect the showing up?\n",
    ">    3. Is there any relationship between showing up and the gender?\n",
    ">    4. Is there any relationship between showing up and the Age?\n",
    ">    5. Do Receiving messages have an effect on comming to the appointment?\n",
    ">    6. What is the relation between diseases and showing up?\n",
    ">    7. Does Enroll in the Brasilian welfare program Bolsa Família affects showing up?\n",
    ">    8. What are the hospitals with the maximum proportion of showing up?\n",
    ">"
   ]
  },
  {
   "cell_type": "code",
   "execution_count": 108,
   "metadata": {},
   "outputs": [
    {
     "data": {
      "text/html": [
       "<div>\n",
       "<style scoped>\n",
       "    .dataframe tbody tr th:only-of-type {\n",
       "        vertical-align: middle;\n",
       "    }\n",
       "\n",
       "    .dataframe tbody tr th {\n",
       "        vertical-align: top;\n",
       "    }\n",
       "\n",
       "    .dataframe thead th {\n",
       "        text-align: right;\n",
       "    }\n",
       "</style>\n",
       "<table border=\"1\" class=\"dataframe\">\n",
       "  <thead>\n",
       "    <tr style=\"text-align: right;\">\n",
       "      <th></th>\n",
       "      <th>PatientId</th>\n",
       "      <th>AppointmentID</th>\n",
       "      <th>Gender</th>\n",
       "      <th>ScheduledDay</th>\n",
       "      <th>AppointmentDay</th>\n",
       "      <th>Age</th>\n",
       "      <th>Neighbourhood</th>\n",
       "      <th>Scholarship</th>\n",
       "      <th>Hipertension</th>\n",
       "      <th>Diabetes</th>\n",
       "      <th>Alcoholism</th>\n",
       "      <th>Handcap</th>\n",
       "      <th>SMS_received</th>\n",
       "      <th>No-show</th>\n",
       "    </tr>\n",
       "  </thead>\n",
       "  <tbody>\n",
       "    <tr>\n",
       "      <th>0</th>\n",
       "      <td>2.987250e+13</td>\n",
       "      <td>5642903</td>\n",
       "      <td>F</td>\n",
       "      <td>2016-04-29T18:38:08Z</td>\n",
       "      <td>2016-04-29T00:00:00Z</td>\n",
       "      <td>62</td>\n",
       "      <td>JARDIM DA PENHA</td>\n",
       "      <td>0</td>\n",
       "      <td>1</td>\n",
       "      <td>0</td>\n",
       "      <td>0</td>\n",
       "      <td>0</td>\n",
       "      <td>0</td>\n",
       "      <td>No</td>\n",
       "    </tr>\n",
       "    <tr>\n",
       "      <th>1</th>\n",
       "      <td>5.589978e+14</td>\n",
       "      <td>5642503</td>\n",
       "      <td>M</td>\n",
       "      <td>2016-04-29T16:08:27Z</td>\n",
       "      <td>2016-04-29T00:00:00Z</td>\n",
       "      <td>56</td>\n",
       "      <td>JARDIM DA PENHA</td>\n",
       "      <td>0</td>\n",
       "      <td>0</td>\n",
       "      <td>0</td>\n",
       "      <td>0</td>\n",
       "      <td>0</td>\n",
       "      <td>0</td>\n",
       "      <td>No</td>\n",
       "    </tr>\n",
       "    <tr>\n",
       "      <th>2</th>\n",
       "      <td>4.262962e+12</td>\n",
       "      <td>5642549</td>\n",
       "      <td>F</td>\n",
       "      <td>2016-04-29T16:19:04Z</td>\n",
       "      <td>2016-04-29T00:00:00Z</td>\n",
       "      <td>62</td>\n",
       "      <td>MATA DA PRAIA</td>\n",
       "      <td>0</td>\n",
       "      <td>0</td>\n",
       "      <td>0</td>\n",
       "      <td>0</td>\n",
       "      <td>0</td>\n",
       "      <td>0</td>\n",
       "      <td>No</td>\n",
       "    </tr>\n",
       "  </tbody>\n",
       "</table>\n",
       "</div>"
      ],
      "text/plain": [
       "      PatientId  AppointmentID Gender          ScheduledDay  \\\n",
       "0  2.987250e+13        5642903      F  2016-04-29T18:38:08Z   \n",
       "1  5.589978e+14        5642503      M  2016-04-29T16:08:27Z   \n",
       "2  4.262962e+12        5642549      F  2016-04-29T16:19:04Z   \n",
       "\n",
       "         AppointmentDay  Age    Neighbourhood  Scholarship  Hipertension  \\\n",
       "0  2016-04-29T00:00:00Z   62  JARDIM DA PENHA            0             1   \n",
       "1  2016-04-29T00:00:00Z   56  JARDIM DA PENHA            0             0   \n",
       "2  2016-04-29T00:00:00Z   62    MATA DA PRAIA            0             0   \n",
       "\n",
       "   Diabetes  Alcoholism  Handcap  SMS_received No-show  \n",
       "0         0           0        0             0      No  \n",
       "1         0           0        0             0      No  \n",
       "2         0           0        0             0      No  "
      ]
     },
     "execution_count": 108,
     "metadata": {},
     "output_type": "execute_result"
    }
   ],
   "source": [
    "import pandas as pd\n",
    "import numpy as np\n",
    "import matplotlib.pyplot as plt\n",
    "%matplotlib inline\n",
    "\n",
    "import seaborn as sns\n",
    "df = pd.read_csv('KaggleV2-May-2016.csv')\n",
    "df.head(3)"
   ]
  },
  {
   "cell_type": "code",
   "execution_count": 109,
   "metadata": {},
   "outputs": [],
   "source": [
    "def PlotBars(label1, height1, label2, height2, col1='r', col2='b', Titel='Titel', yLabel='Number of patients', xLabel=''):\n",
    "    \"\"\"\n",
    "    SUMMERY: Function to plot 2 bars in one chart. \n",
    "              First one  => has height = height1  ... label = label1 ... color = col1 default red.\n",
    "              Second one => has height = height2  ... label = label2 ... color = col2 default blue.\n",
    "    \"\"\"\n",
    "    sns.set()\n",
    "    fig, ax = plt.subplots()\n",
    "    ax.bar(label1, height1, label=label1, color=col1)\n",
    "    ax.bar(label2, height2, label=label2, color=col2)\n",
    "    ax.set_title(Titel, fontweight='bold')\n",
    "    ax.set_ylabel(yLabel)\n",
    "    ax.set_xlabel(xLabel)\n",
    "    ax.legend()\n",
    "    \n",
    "def PlotPies(column, Labels, Title):\n",
    "    \"\"\"\n",
    "    SUMMERY: Function to plot pie chart for the categories on specific column. \n",
    "    \n",
    "    Inputs: \n",
    "        column: (str) column name we need to chart the pie chart to its categories.\n",
    "        Labels: (list of str) names of the categories.\n",
    "        Title: (str) title of the pie chart.\n",
    "        \n",
    "    Output:\n",
    "        prinitint the pie chart.\n",
    "    \"\"\"\n",
    "    sns.set()\n",
    "    fig = plt.figure(figsize =(10, 7))\n",
    "    plt.pie(df[column].value_counts().values, labels=Labels, colors=['#234E70', 'r'], autopct='%.0f%%', textprops={'color':\"w\"})\n",
    "    plt.legend()\n",
    "    plt.title(Title)\n",
    "    plt.show()\n",
    "    \n",
    "\n",
    "def get_propotions(column_name, DataFrame):\n",
    "    \"\"\"\n",
    "        SUMMERY:\n",
    "            TO GIVE PROPOTIONS OF THE VALUES IN THE COLUMNS.\n",
    "        TAKE:\n",
    "            column_name: (str) for the column we need to get propotions on it.\n",
    "            DataFrame: (DataFrame) for the data frame we need to make propotions on it.\n",
    "        RETURN:\n",
    "            propotions\n",
    "     \"\"\" \n",
    "    \n",
    "    #For the total counts of the categories in the column which have categories on it like in \n",
    "    #   Gender > getting the count of all Females & count of all Males\n",
    "    #   Age_stage > getting count of all each Age Stage.\n",
    "    \n",
    "    TotalValues_forEachCategory = DataFrame.groupby([column_name])['No_show'].count()\n",
    "    \n",
    "    # Getting the count of all who show up for each category and count of all who didn't in each category.\n",
    "    valuesFor_Show_noShow = DataFrame.groupby([column_name, 'No_show'])['No_show'].count()\n",
    "    \n",
    "    # To be fair we do not use ValuesFor_Show_noShow but we divide it by the TotalValues\n",
    "    # as our data have different numbers of rows for each category .. so to be fair we divide each \n",
    "    # count of patients who showed up in category X by the total number of patients in this category.\n",
    "    propotions = valuesFor_Show_noShow / TotalValues_forEachCategory\n",
    "    \n",
    "    return propotions\n",
    "\n",
    "\n",
    "def PlotPropotions(propotions, column_name, color1, color2, xLabel_1, xLabel_2):\n",
    "    # Propotions come from get_propotion function.\n",
    "    propotions.unstack().plot(kind='bar', color=[color1, color2]);\n",
    "    plt.ylabel('Avg num of patients')\n",
    "    plt.xlabel('');\n",
    "    plt.title(f'{column_name} & No-show', fontsize=15, fontweight='bold')\n",
    "    plt.legend(labels=['Showed up', 'Did not show up'], fontsize=14, bbox_to_anchor=(1.05, 0.7));\n",
    "    plt.xticks([0, 1], [xLabel_1, xLabel_2], rotation=0);"
   ]
  },
  {
   "cell_type": "markdown",
   "metadata": {},
   "source": [
    "<a id='wrangling'></a>\n",
    "## Data Wrangling\n",
    "\n",
    "\n",
    "### Assessing and Building Intuition"
   ]
  },
  {
   "cell_type": "code",
   "execution_count": 110,
   "metadata": {},
   "outputs": [
    {
     "data": {
      "text/plain": [
       "(110527, 14)"
      ]
     },
     "execution_count": 110,
     "metadata": {},
     "output_type": "execute_result"
    }
   ],
   "source": [
    "df.shape"
   ]
  },
  {
   "cell_type": "markdown",
   "metadata": {},
   "source": [
    "There are 14 columns and 110527 rows in the dataset."
   ]
  },
  {
   "cell_type": "code",
   "execution_count": 111,
   "metadata": {},
   "outputs": [
    {
     "name": "stdout",
     "output_type": "stream",
     "text": [
      "<class 'pandas.core.frame.DataFrame'>\n",
      "RangeIndex: 110527 entries, 0 to 110526\n",
      "Data columns (total 14 columns):\n",
      " #   Column          Non-Null Count   Dtype  \n",
      "---  ------          --------------   -----  \n",
      " 0   PatientId       110527 non-null  float64\n",
      " 1   AppointmentID   110527 non-null  int64  \n",
      " 2   Gender          110527 non-null  object \n",
      " 3   ScheduledDay    110527 non-null  object \n",
      " 4   AppointmentDay  110527 non-null  object \n",
      " 5   Age             110527 non-null  int64  \n",
      " 6   Neighbourhood   110527 non-null  object \n",
      " 7   Scholarship     110527 non-null  int64  \n",
      " 8   Hipertension    110527 non-null  int64  \n",
      " 9   Diabetes        110527 non-null  int64  \n",
      " 10  Alcoholism      110527 non-null  int64  \n",
      " 11  Handcap         110527 non-null  int64  \n",
      " 12  SMS_received    110527 non-null  int64  \n",
      " 13  No-show         110527 non-null  object \n",
      "dtypes: float64(1), int64(8), object(5)\n",
      "memory usage: 11.8+ MB\n"
     ]
    }
   ],
   "source": [
    "df.info()"
   ]
  },
  {
   "cell_type": "markdown",
   "metadata": {},
   "source": [
    "> * ScheduledDay & AppointmentDay are objects not DayTime.\n",
    "> * No-show column's data types need to be integers to help us make statistic operations on it."
   ]
  },
  {
   "cell_type": "code",
   "execution_count": 112,
   "metadata": {},
   "outputs": [
    {
     "data": {
      "text/plain": [
       "PatientId          62299\n",
       "AppointmentID     110527\n",
       "Gender                 2\n",
       "ScheduledDay      103549\n",
       "AppointmentDay        27\n",
       "Age                  104\n",
       "Neighbourhood         81\n",
       "Scholarship            2\n",
       "Hipertension           2\n",
       "Diabetes               2\n",
       "Alcoholism             2\n",
       "Handcap                5\n",
       "SMS_received           2\n",
       "No-show                2\n",
       "dtype: int64"
      ]
     },
     "execution_count": 112,
     "metadata": {},
     "output_type": "execute_result"
    }
   ],
   "source": [
    "# This shows the number of unique values in each column.\n",
    "df.nunique()"
   ]
  },
  {
   "cell_type": "markdown",
   "metadata": {},
   "source": [
    "> * The number of unique appointments > patients .. which means many patients have more than one appointment.\n",
    ">\n",
    "> * There are 5 values in the Handcap column, but they should be only 0 & 1 to be like other columns."
   ]
  },
  {
   "cell_type": "code",
   "execution_count": 113,
   "metadata": {},
   "outputs": [
    {
     "data": {
      "text/html": [
       "<div>\n",
       "<style scoped>\n",
       "    .dataframe tbody tr th:only-of-type {\n",
       "        vertical-align: middle;\n",
       "    }\n",
       "\n",
       "    .dataframe tbody tr th {\n",
       "        vertical-align: top;\n",
       "    }\n",
       "\n",
       "    .dataframe thead th {\n",
       "        text-align: right;\n",
       "    }\n",
       "</style>\n",
       "<table border=\"1\" class=\"dataframe\">\n",
       "  <thead>\n",
       "    <tr style=\"text-align: right;\">\n",
       "      <th></th>\n",
       "      <th>PatientId</th>\n",
       "      <th>AppointmentID</th>\n",
       "      <th>Age</th>\n",
       "      <th>Scholarship</th>\n",
       "      <th>Hipertension</th>\n",
       "      <th>Diabetes</th>\n",
       "      <th>Alcoholism</th>\n",
       "      <th>Handcap</th>\n",
       "      <th>SMS_received</th>\n",
       "    </tr>\n",
       "  </thead>\n",
       "  <tbody>\n",
       "    <tr>\n",
       "      <th>count</th>\n",
       "      <td>1.105270e+05</td>\n",
       "      <td>1.105270e+05</td>\n",
       "      <td>110527.000000</td>\n",
       "      <td>110527.000000</td>\n",
       "      <td>110527.000000</td>\n",
       "      <td>110527.000000</td>\n",
       "      <td>110527.000000</td>\n",
       "      <td>110527.000000</td>\n",
       "      <td>110527.000000</td>\n",
       "    </tr>\n",
       "    <tr>\n",
       "      <th>mean</th>\n",
       "      <td>1.474963e+14</td>\n",
       "      <td>5.675305e+06</td>\n",
       "      <td>37.088874</td>\n",
       "      <td>0.098266</td>\n",
       "      <td>0.197246</td>\n",
       "      <td>0.071865</td>\n",
       "      <td>0.030400</td>\n",
       "      <td>0.022248</td>\n",
       "      <td>0.321026</td>\n",
       "    </tr>\n",
       "    <tr>\n",
       "      <th>std</th>\n",
       "      <td>2.560949e+14</td>\n",
       "      <td>7.129575e+04</td>\n",
       "      <td>23.110205</td>\n",
       "      <td>0.297675</td>\n",
       "      <td>0.397921</td>\n",
       "      <td>0.258265</td>\n",
       "      <td>0.171686</td>\n",
       "      <td>0.161543</td>\n",
       "      <td>0.466873</td>\n",
       "    </tr>\n",
       "    <tr>\n",
       "      <th>min</th>\n",
       "      <td>3.921784e+04</td>\n",
       "      <td>5.030230e+06</td>\n",
       "      <td>-1.000000</td>\n",
       "      <td>0.000000</td>\n",
       "      <td>0.000000</td>\n",
       "      <td>0.000000</td>\n",
       "      <td>0.000000</td>\n",
       "      <td>0.000000</td>\n",
       "      <td>0.000000</td>\n",
       "    </tr>\n",
       "    <tr>\n",
       "      <th>25%</th>\n",
       "      <td>4.172614e+12</td>\n",
       "      <td>5.640286e+06</td>\n",
       "      <td>18.000000</td>\n",
       "      <td>0.000000</td>\n",
       "      <td>0.000000</td>\n",
       "      <td>0.000000</td>\n",
       "      <td>0.000000</td>\n",
       "      <td>0.000000</td>\n",
       "      <td>0.000000</td>\n",
       "    </tr>\n",
       "    <tr>\n",
       "      <th>50%</th>\n",
       "      <td>3.173184e+13</td>\n",
       "      <td>5.680573e+06</td>\n",
       "      <td>37.000000</td>\n",
       "      <td>0.000000</td>\n",
       "      <td>0.000000</td>\n",
       "      <td>0.000000</td>\n",
       "      <td>0.000000</td>\n",
       "      <td>0.000000</td>\n",
       "      <td>0.000000</td>\n",
       "    </tr>\n",
       "    <tr>\n",
       "      <th>75%</th>\n",
       "      <td>9.439172e+13</td>\n",
       "      <td>5.725524e+06</td>\n",
       "      <td>55.000000</td>\n",
       "      <td>0.000000</td>\n",
       "      <td>0.000000</td>\n",
       "      <td>0.000000</td>\n",
       "      <td>0.000000</td>\n",
       "      <td>0.000000</td>\n",
       "      <td>1.000000</td>\n",
       "    </tr>\n",
       "    <tr>\n",
       "      <th>max</th>\n",
       "      <td>9.999816e+14</td>\n",
       "      <td>5.790484e+06</td>\n",
       "      <td>115.000000</td>\n",
       "      <td>1.000000</td>\n",
       "      <td>1.000000</td>\n",
       "      <td>1.000000</td>\n",
       "      <td>1.000000</td>\n",
       "      <td>4.000000</td>\n",
       "      <td>1.000000</td>\n",
       "    </tr>\n",
       "  </tbody>\n",
       "</table>\n",
       "</div>"
      ],
      "text/plain": [
       "          PatientId  AppointmentID            Age    Scholarship  \\\n",
       "count  1.105270e+05   1.105270e+05  110527.000000  110527.000000   \n",
       "mean   1.474963e+14   5.675305e+06      37.088874       0.098266   \n",
       "std    2.560949e+14   7.129575e+04      23.110205       0.297675   \n",
       "min    3.921784e+04   5.030230e+06      -1.000000       0.000000   \n",
       "25%    4.172614e+12   5.640286e+06      18.000000       0.000000   \n",
       "50%    3.173184e+13   5.680573e+06      37.000000       0.000000   \n",
       "75%    9.439172e+13   5.725524e+06      55.000000       0.000000   \n",
       "max    9.999816e+14   5.790484e+06     115.000000       1.000000   \n",
       "\n",
       "        Hipertension       Diabetes     Alcoholism        Handcap  \\\n",
       "count  110527.000000  110527.000000  110527.000000  110527.000000   \n",
       "mean        0.197246       0.071865       0.030400       0.022248   \n",
       "std         0.397921       0.258265       0.171686       0.161543   \n",
       "min         0.000000       0.000000       0.000000       0.000000   \n",
       "25%         0.000000       0.000000       0.000000       0.000000   \n",
       "50%         0.000000       0.000000       0.000000       0.000000   \n",
       "75%         0.000000       0.000000       0.000000       0.000000   \n",
       "max         1.000000       1.000000       1.000000       4.000000   \n",
       "\n",
       "        SMS_received  \n",
       "count  110527.000000  \n",
       "mean        0.321026  \n",
       "std         0.466873  \n",
       "min         0.000000  \n",
       "25%         0.000000  \n",
       "50%         0.000000  \n",
       "75%         1.000000  \n",
       "max         1.000000  "
      ]
     },
     "execution_count": 113,
     "metadata": {},
     "output_type": "execute_result"
    }
   ],
   "source": [
    "# The Descriptive statistics for each column.\n",
    "df.describe()"
   ]
  },
  {
   "cell_type": "markdown",
   "metadata": {},
   "source": [
    "> * Avg age of the patients is 37 years old.\n",
    "> * The oldest patient has 115 years old.\n",
    "> * There are not many patients who have Diabetes, Alcoholism, or Handcap.\n",
    "> * Less than half of the SMS messages are received."
   ]
  },
  {
   "cell_type": "code",
   "execution_count": 114,
   "metadata": {},
   "outputs": [
    {
     "data": {
      "text/plain": [
       "0"
      ]
     },
     "execution_count": 114,
     "metadata": {},
     "output_type": "execute_result"
    }
   ],
   "source": [
    "# Number of null values.\n",
    "df.isnull().sum().sum()"
   ]
  },
  {
   "cell_type": "markdown",
   "metadata": {},
   "source": [
    "There is no null values in the dataset."
   ]
  },
  {
   "cell_type": "markdown",
   "metadata": {},
   "source": [
    "> Info about **Age** column."
   ]
  },
  {
   "cell_type": "code",
   "execution_count": 115,
   "metadata": {},
   "outputs": [
    {
     "data": {
      "image/png": "[encoded data removed]",
      "text/plain": [
       "<Figure size 432x288 with 1 Axes>"
      ]
     },
     "metadata": {},
     "output_type": "display_data"
    }
   ],
   "source": [
    "# Getting statistical informations about age column.\n",
    "sns.set()\n",
    "fig, ax = plt.subplots()\n",
    "ax.boxplot(df['Age']);\n",
    "ax.set_title('Spread of the age');\n",
    "ax.set_ylabel('Number of the patients');"
   ]
  },
  {
   "cell_type": "markdown",
   "metadata": {},
   "source": [
    "* There is an outlier when the patient has about 115 years old."
   ]
  },
  {
   "cell_type": "code",
   "execution_count": 116,
   "metadata": {},
   "outputs": [
    {
     "data": {
      "image/png": "[encoded data removed]",
      "text/plain": [
       "<Figure size 432x288 with 1 Axes>"
      ]
     },
     "metadata": {},
     "output_type": "display_data"
    }
   ],
   "source": [
    "fig, ax = plt.subplots()\n",
    "ax.hist(df['Age'], bins=15)\n",
    "ax.set_xlabel(\"Ages\")\n",
    "ax.set_title('Distribution of the ages', fontweight='bold');\n",
    "ax.set_ylabel('Number of patients');"
   ]
  },
  {
   "cell_type": "markdown",
   "metadata": {},
   "source": [
    "* The age state that has the maximum number of patients is Infants.\n",
    "* We will classify the ages by groups."
   ]
  },
  {
   "cell_type": "markdown",
   "metadata": {},
   "source": [
    "> Info about **Gender** column."
   ]
  },
  {
   "cell_type": "code",
   "execution_count": 117,
   "metadata": {},
   "outputs": [
    {
     "data": {
      "text/plain": [
       "F    71840\n",
       "M    38687\n",
       "Name: Gender, dtype: int64"
      ]
     },
     "execution_count": 117,
     "metadata": {},
     "output_type": "execute_result"
    }
   ],
   "source": [
    "Data = df['Gender'].value_counts()\n",
    "Data"
   ]
  },
  {
   "cell_type": "code",
   "execution_count": 118,
   "metadata": {},
   "outputs": [
    {
     "data": {
      "image/png": "[encoded data removed]",
      "text/plain": [
       "<Figure size 432x288 with 1 Axes>"
      ]
     },
     "metadata": {},
     "output_type": "display_data"
    }
   ],
   "source": [
    "PlotBars(label1=Data.index[0], height1=Data.values[0], label2=Data.index[1], height2=Data.values[1], Titel='# of Males & Females', xLabel='Gender')"
   ]
  },
  {
   "cell_type": "markdown",
   "metadata": {},
   "source": [
    "* There are more than 70,000 female patients.\n",
    "* There are less than 40,000 male patients.\n",
    "* There are a number of female patients about double the number of the male patients"
   ]
  },
  {
   "cell_type": "code",
   "execution_count": 119,
   "metadata": {},
   "outputs": [
    {
     "data": {
      "text/plain": [
       "Text(0, 0.5, 'Number of appointments')"
      ]
     },
     "execution_count": 119,
     "metadata": {},
     "output_type": "execute_result"
    },
    {
     "data": {
      "image/png": "[encoded data removed]",
      "text/plain": [
       "<Figure size 432x288 with 1 Axes>"
      ]
     },
     "metadata": {},
     "output_type": "display_data"
    }
   ],
   "source": [
    "most_visited_hospitals = df.Neighbourhood.value_counts()[0: 9]\n",
    "names = most_visited_hospitals.index\n",
    "sns.set()\n",
    "fig, ax = plt.subplots()\n",
    "ax.bar(most_visited_hospitals.index, most_visited_hospitals.values);\n",
    "plt.xticks(rotation=90);\n",
    "ax.set_title('Most visited Hospitals')\n",
    "ax.set_ylabel('Number of appointments')"
   ]
  },
  {
   "cell_type": "markdown",
   "metadata": {},
   "source": [
    "> Info about **Scholarship** column."
   ]
  },
  {
   "cell_type": "code",
   "execution_count": 120,
   "metadata": {},
   "outputs": [
    {
     "data": {
      "text/plain": [
       "0    99666\n",
       "1    10861\n",
       "Name: Scholarship, dtype: int64"
      ]
     },
     "execution_count": 120,
     "metadata": {},
     "output_type": "execute_result"
    }
   ],
   "source": [
    "Data = df['Scholarship'].value_counts()\n",
    "Data"
   ]
  },
  {
   "cell_type": "code",
   "execution_count": 121,
   "metadata": {},
   "outputs": [
    {
     "data": {
      "image/png": "[encoded data removed]",
      "text/plain": [
       "<Figure size 432x288 with 1 Axes>"
      ]
     },
     "metadata": {},
     "output_type": "display_data"
    }
   ],
   "source": [
    "PlotBars(label1='Did not Enrolled', height1=Data.values[0], label2='Enrolled', height2=Data.values[1], Titel=\"# of patients who enrolled in Brasilian welfare program Bolsa Família.\", col1='#2C5F2D', col2='#97BC62FF')"
   ]
  },
  {
   "cell_type": "markdown",
   "metadata": {},
   "source": [
    "* There are about 100,000 patients who did not enroll in the Brasilian welfare program Bolsa Familia.\n",
    "* There are about 10,000  patients who enrolled."
   ]
  },
  {
   "cell_type": "markdown",
   "metadata": {},
   "source": [
    "> Info about **Hipertension** column."
   ]
  },
  {
   "cell_type": "code",
   "execution_count": 122,
   "metadata": {},
   "outputs": [
    {
     "data": {
      "text/plain": [
       "0    88726\n",
       "1    21801\n",
       "Name: Hipertension, dtype: int64"
      ]
     },
     "execution_count": 122,
     "metadata": {},
     "output_type": "execute_result"
    }
   ],
   "source": [
    "Data = df['Hipertension'].value_counts()\n",
    "Data"
   ]
  },
  {
   "cell_type": "code",
   "execution_count": 123,
   "metadata": {},
   "outputs": [
    {
     "data": {
      "image/png": "[encoded data removed]",
      "text/plain": [
       "<Figure size 432x288 with 1 Axes>"
      ]
     },
     "metadata": {},
     "output_type": "display_data"
    }
   ],
   "source": [
    "PlotBars(label1='No', height1=Data.values[0], label2='Yes', height2=Data.values[1], Titel=\"# Patients who has Hipertension\", col1='#00539CFF', col2='#EEA47FFF')"
   ]
  },
  {
   "cell_type": "markdown",
   "metadata": {},
   "source": [
    "* Most of patients does not have Hipertension."
   ]
  },
  {
   "cell_type": "markdown",
   "metadata": {},
   "source": [
    "> Info about **Diabetes** column."
   ]
  },
  {
   "cell_type": "code",
   "execution_count": 124,
   "metadata": {},
   "outputs": [
    {
     "data": {
      "text/plain": [
       "0    102584\n",
       "1      7943\n",
       "Name: Diabetes, dtype: int64"
      ]
     },
     "execution_count": 124,
     "metadata": {},
     "output_type": "execute_result"
    }
   ],
   "source": [
    "Data = df['Diabetes'].value_counts()\n",
    "Data"
   ]
  },
  {
   "cell_type": "code",
   "execution_count": 125,
   "metadata": {},
   "outputs": [
    {
     "data": {
      "image/png": "[encoded data removed]",
      "text/plain": [
       "<Figure size 432x288 with 1 Axes>"
      ]
     },
     "metadata": {},
     "output_type": "display_data"
    }
   ],
   "source": [
    "PlotBars(label1='No', height1=Data.values[0], label2='Yes', height2=Data.values[1], Titel=\"# Patients who has Diabetes\", col1='#234E70', col2='#A7BEAE')"
   ]
  },
  {
   "cell_type": "markdown",
   "metadata": {},
   "source": [
    "* About 102,000 patients do not have diabetes.\n",
    "* Less than 10,000 patients do."
   ]
  },
  {
   "cell_type": "markdown",
   "metadata": {},
   "source": [
    "> Info about **Alcoholism** column."
   ]
  },
  {
   "cell_type": "code",
   "execution_count": 126,
   "metadata": {},
   "outputs": [
    {
     "data": {
      "text/plain": [
       "0    107167\n",
       "1      3360\n",
       "Name: Alcoholism, dtype: int64"
      ]
     },
     "execution_count": 126,
     "metadata": {},
     "output_type": "execute_result"
    }
   ],
   "source": [
    "Data = df['Alcoholism'].value_counts()\n",
    "Data"
   ]
  },
  {
   "cell_type": "code",
   "execution_count": 127,
   "metadata": {},
   "outputs": [
    {
     "data": {
      "image/png": "[encoded data removed]",
      "text/plain": [
       "<Figure size 432x288 with 1 Axes>"
      ]
     },
     "metadata": {},
     "output_type": "display_data"
    }
   ],
   "source": [
    "PlotBars(label1='No', height1=Data.values[0], label2='Yes', height2=Data.values[1], Titel=\"# Patients who has Alcoholism\", col1='#7A2048', col2='#408EC6')"
   ]
  },
  {
   "cell_type": "markdown",
   "metadata": {},
   "source": [
    "* About 107,000 patients do not have Alcoholism.\n",
    "* Less than 3,500 patients do."
   ]
  },
  {
   "cell_type": "markdown",
   "metadata": {},
   "source": [
    "> Info about **SMS_received** column."
   ]
  },
  {
   "cell_type": "code",
   "execution_count": 128,
   "metadata": {},
   "outputs": [
    {
     "data": {
      "text/plain": [
       "0    75045\n",
       "1    35482\n",
       "Name: SMS_received, dtype: int64"
      ]
     },
     "execution_count": 128,
     "metadata": {},
     "output_type": "execute_result"
    }
   ],
   "source": [
    "Data = df['SMS_received'].value_counts()\n",
    "Data"
   ]
  },
  {
   "cell_type": "code",
   "execution_count": null,
   "metadata": {},
   "outputs": [],
   "source": [
    "PlotBars(label1='Not received', height1=Data.values[0], label2='Received', height2=Data.values[1], Titel=\"SMS Receiviment\")"
   ]
  },
  {
   "cell_type": "markdown",
   "metadata": {},
   "source": [
    "> * More than 75,000 SMS messages did not receive.\n",
    "> * About 35,000 SMS messages received."
   ]
  },
  {
   "cell_type": "code",
   "execution_count": null,
   "metadata": {},
   "outputs": [],
   "source": [
    "Data = df['No-show'].value_counts()\n",
    "Data"
   ]
  },
  {
   "cell_type": "code",
   "execution_count": null,
   "metadata": {},
   "outputs": [],
   "source": [
    "PlotPies(column='No-show', Labels=['Showed Up', 'Did not show up'], Title='# of patients who showed up')"
   ]
  },
  {
   "cell_type": "markdown",
   "metadata": {},
   "source": [
    "* There are 80% of patients showed up."
   ]
  },
  {
   "cell_type": "markdown",
   "metadata": {},
   "source": [
    "\n",
    "### Data Cleaning"
   ]
  },
  {
   "cell_type": "markdown",
   "metadata": {},
   "source": [
    "> Cleaning and Editing **ScheduledDay & AppointmentDay** columns."
   ]
  },
  {
   "cell_type": "code",
   "execution_count": null,
   "metadata": {},
   "outputs": [],
   "source": [
    "# Making the data type of ScheduledDay & AppointmentDay => DateTime data type.\n",
    "df['ScheduledDay'] = pd.to_datetime(df['ScheduledDay'])\n",
    "\n",
    "df['AppointmentDay'] = pd.to_datetime(df['AppointmentDay'])"
   ]
  },
  {
   "cell_type": "code",
   "execution_count": null,
   "metadata": {},
   "outputs": [],
   "source": [
    "# calculating the difference between the 2 days using only dates not hours.\n",
    "Waiting = df['AppointmentDay'].dt.date - df['ScheduledDay'].dt.date\n",
    "Waiting = Waiting.dt.days\n",
    "\n",
    "# To inserting them in the first columns not to change the position of the No_show column.\n",
    "df.insert(5, 'Waiting', Waiting)\n",
    "\n",
    "df.Waiting.value_counts().plot(figsize=(8, 4));\n",
    "plt.xlabel('Number of dayes between Appointment day & Scheduled Day', fontsize=12);\n",
    "plt.ylabel('Number of appointments', fontsize=12);\n",
    "plt.title('How does Waiting affect showing up?');\n",
    "plt.xticks(rotation=0);"
   ]
  },
  {
   "cell_type": "markdown",
   "metadata": {},
   "source": [
    "* Most appointments are booked on their scheduled days but there are few appointments that are booked after the scheduled day and before it! so we need to handle that.\n",
    "* So, we need to delete all rows of appointment days before their scheduled days!"
   ]
  },
  {
   "cell_type": "code",
   "execution_count": null,
   "metadata": {},
   "outputs": [],
   "source": [
    "df.head(1)"
   ]
  },
  {
   "cell_type": "code",
   "execution_count": null,
   "metadata": {},
   "outputs": [],
   "source": [
    "df = df.query('Waiting >= 0')"
   ]
  },
  {
   "cell_type": "code",
   "execution_count": null,
   "metadata": {},
   "outputs": [],
   "source": [
    "df.Waiting.value_counts().plot(figsize=(8, 4));\n",
    "plt.xlabel('Number of dayes between Appointment day & Scheduled Day', fontsize=12);\n",
    "plt.ylabel('Number of appointments', fontsize=12);\n",
    "plt.title('How does Waiting affect showing up?');\n",
    "plt.xticks(rotation=0);"
   ]
  },
  {
   "cell_type": "markdown",
   "metadata": {},
   "source": [
    "* Now there is no appointment day before its scheduled day."
   ]
  },
  {
   "cell_type": "code",
   "execution_count": null,
   "metadata": {},
   "outputs": [],
   "source": [
    "# making 2 columns for the days of the appointment day & sceduled day.\n",
    "Appointment_Day = df.AppointmentDay.dt.day_name()\n",
    "df.insert(5, 'Appointment_Day', Appointment_Day)\n",
    "\n",
    "Scheduled_Day = df.ScheduledDay.dt.day_name()\n",
    "df.insert(5, 'Scheduled_Day', Scheduled_Day)"
   ]
  },
  {
   "cell_type": "code",
   "execution_count": null,
   "metadata": {},
   "outputs": [],
   "source": [
    "df.head(1)"
   ]
  },
  {
   "cell_type": "markdown",
   "metadata": {},
   "source": [
    "> Cleaning and Editing **No-show** column."
   ]
  },
  {
   "cell_type": "code",
   "execution_count": null,
   "metadata": {},
   "outputs": [],
   "source": [
    "# changing the column name to be 'No_show' instead of 'NO-show'\n",
    "df.rename(columns={'No-show': 'No_show'}, inplace=True)"
   ]
  },
  {
   "cell_type": "code",
   "execution_count": null,
   "metadata": {},
   "outputs": [],
   "source": [
    "# changing each No => 0 & Yes => 1\n",
    "df['No_show'] = df['No_show'].apply(lambda val: 0 if val == 'No' else 1)"
   ]
  },
  {
   "cell_type": "markdown",
   "metadata": {},
   "source": [
    "> Cleaning and Editign **Age** column."
   ]
  },
  {
   "cell_type": "code",
   "execution_count": null,
   "metadata": {},
   "outputs": [],
   "source": [
    "# We try to get the outliers of the ages after age of 100.\n",
    "df.query('Age > 100').Age.value_counts()"
   ]
  },
  {
   "cell_type": "markdown",
   "metadata": {},
   "source": [
    "* There are ages equal 102 and 115 years."
   ]
  },
  {
   "cell_type": "code",
   "execution_count": null,
   "metadata": {},
   "outputs": [],
   "source": [
    "# Getting the above limit of ages.\n",
    "Q1 = df.Age.describe()['25%']\n",
    "Q3 = df.Age.describe()['75%']\n",
    "\n",
    "IQR = Q3 - Q1\n",
    "HightLimitOfAge = Q3 + 1.5 * IQR\n",
    "\n",
    "# The limit of ages that more than it considered OUTLIER.\n",
    "HightLimitOfAge"
   ]
  },
  {
   "cell_type": "markdown",
   "metadata": {},
   "source": [
    "* So, We will ignore any patients with ages more than 110.5 years as they are **outliers**."
   ]
  },
  {
   "cell_type": "code",
   "execution_count": null,
   "metadata": {},
   "outputs": [],
   "source": [
    "# Ignoring patients who have   HightLimitOfAge < ages < 0.\n",
    "maximum_age = df.Age.max()\n",
    "df = df.query(f'Age >= 0 & Age <= {HightLimitOfAge}')"
   ]
  },
  {
   "cell_type": "code",
   "execution_count": null,
   "metadata": {},
   "outputs": [],
   "source": [
    "df.query('Age > 99').Age.value_counts()"
   ]
  },
  {
   "cell_type": "markdown",
   "metadata": {},
   "source": [
    "* Now, there is no patients have ages more than 102 years."
   ]
  },
  {
   "cell_type": "code",
   "execution_count": null,
   "metadata": {},
   "outputs": [],
   "source": [
    "# Making ages in groubs ['0:5', '6:9', '10:17', '18:34', '35:54', '55:74', '74+']\n",
    "labels = ['0:5', '6:9', '10:17', '18:34', '35:54', '55:74', '74+']\n",
    "bins = [0, 5, 9, 17, 34, 54, 74, maximum_age]\n",
    "\n",
    "Age_stage = pd.cut(df['Age'], bins=bins, labels=labels)\n",
    "df.insert(9, 'Age_stage', Age_stage)"
   ]
  },
  {
   "cell_type": "markdown",
   "metadata": {},
   "source": [
    "> Cleaning and Editing **Handcap** column."
   ]
  },
  {
   "cell_type": "code",
   "execution_count": null,
   "metadata": {},
   "outputs": [],
   "source": [
    "# Making all \n",
    "# df['Handcap'] = df['Handcap'].apply(lambda val: 1 if val >= 1 else 0)\n",
    "df.loc[df['Handcap'] > 1, 'Handcap'] = 1\n",
    "df['Handcap'].value_counts()"
   ]
  },
  {
   "cell_type": "markdown",
   "metadata": {},
   "source": [
    "* Now there are no values in the Handcap column except 0 & 1."
   ]
  },
  {
   "cell_type": "markdown",
   "metadata": {},
   "source": [
    "<a id='eda'></a>\n",
    "## Exploratory Data Analysis"
   ]
  },
  {
   "cell_type": "markdown",
   "metadata": {},
   "source": [
    "### 1) What is the most days for showing up and No-showing up?"
   ]
  },
  {
   "cell_type": "code",
   "execution_count": null,
   "metadata": {},
   "outputs": [],
   "source": [
    "days_name = ['Monday', 'Tuesday', 'Wednesday', 'Thursday', 'Friday', 'Saturday']\n",
    "\n",
    "Total_appointments_inDays = df.groupby('Appointment_Day')['PatientId'].count()[days_name]\n",
    "\n",
    "Total_appointments_inDays.plot(kind='bar')\n",
    "plt.title('Number of total appointments on each day', fontweight='bold')\n",
    "plt.ylabel('Number of appointments');\n",
    "plt.xticks(rotation= 0);\n",
    "plt.xlabel('');"
   ]
  },
  {
   "cell_type": "markdown",
   "metadata": {},
   "source": [
    "> The chart shows us the most days the patients toke appointments and they are in descending order:\n",
    ">    1. Wednesday => 25867 appointments.\n",
    ">    2. Tuesday   => 25640 appointments.\n",
    ">    3. Monday    => 22714 appointments."
   ]
  },
  {
   "cell_type": "code",
   "execution_count": null,
   "metadata": {},
   "outputs": [],
   "source": [
    "# We need to take propotions here too.\n",
    "propotions = get_propotions('Appointment_Day', df)\n",
    "\n",
    "propotions.unstack().plot(kind='bar', color=['b', '#FC766AFF'])\n",
    "plt.legend(labels=['Showed Up', 'Did not Show up'], fontsize=14, bbox_to_anchor=(1.05, 0.7));\n",
    "plt.ylabel('Avg number of appointments');\n",
    "plt.title('Relation between Days & Showing up', fontsize=12, fontweight='bold');\n",
    "plt.xticks(rotation= 0);\n",
    "plt.xlabel('');"
   ]
  },
  {
   "cell_type": "markdown",
   "metadata": {},
   "source": [
    "* We notice that patients who booked an appointment on Thursday mostly showed up. The reason may be that Thursday is the weekend!\n",
    "* patients who booked an appointment on Saturday, mostly didn't show up.\n",
    "\n",
    "> But, **The Appointment Day did not affect greatly showing up.**"
   ]
  },
  {
   "cell_type": "markdown",
   "metadata": {},
   "source": [
    "### 2) Is the increase in the number of waiting days  affect the showing up?"
   ]
  },
  {
   "cell_type": "code",
   "execution_count": null,
   "metadata": {},
   "outputs": [],
   "source": [
    "# to get values from 0 waiting to 15 days waiting.\n",
    "normal_wait = df.query('Waiting <= 15')\n",
    "propotions = get_propotions('Waiting', normal_wait)\n",
    "\n",
    "propotions.unstack().plot(kind='bar', color= ['#5F4B8BFF', '#E69A8DFF'], figsize=(8, 4))\n",
    "\n",
    "plt.xticks(rotation=0);\n",
    "plt.legend(labels=['Showed up', 'Did not show up'], fontsize=14, bbox_to_anchor=(1.05, 0.6));\n",
    "plt.xlabel('Number of Waiting Days');\n",
    "plt.ylabel('Avg number of patients');\n",
    "plt.title('Relation between Number of Waiting days & showing up', fontweight='bold');"
   ]
  },
  {
   "cell_type": "markdown",
   "metadata": {},
   "source": [
    "> * We notice that if the patient toke an appointment on the same day when he called to schedule it .. he will show up.\n",
    "> * If the patient toke an appointment after he schedules it by 4+ days he may not show up.\n",
    "\n",
    "> **The increase in the number of waiting days affects badly the showing up**"
   ]
  },
  {
   "cell_type": "markdown",
   "metadata": {},
   "source": [
    "### 3) Is there any relationship between showing up and the gender?"
   ]
  },
  {
   "cell_type": "code",
   "execution_count": null,
   "metadata": {
    "scrolled": true
   },
   "outputs": [],
   "source": [
    "propotions = get_propotions('Gender', df)\n",
    "\n",
    "PlotPropotions(propotions, 'Gender', '#2C5F2D', '#97BC62FF', 'Female', 'Male')"
   ]
  },
  {
   "cell_type": "markdown",
   "metadata": {},
   "source": [
    "* As we know from assessing data on the section of gender,\\\n",
    "    the number of females is about double the number of males.\\\n",
    "    We will take proportions to be fair.\n",
    "\n",
    "> We get that **Gender did not have an effect on showing up or not**."
   ]
  },
  {
   "cell_type": "markdown",
   "metadata": {},
   "source": [
    "### 4) Is there any relationship between showing up and the Age?"
   ]
  },
  {
   "cell_type": "code",
   "execution_count": null,
   "metadata": {
    "scrolled": true
   },
   "outputs": [],
   "source": [
    "Total_patients_inStatges = df.groupby('Age_stage')['No_show'].count()\n",
    "\n",
    "plt.plot(Total_patients_inStatges);\n",
    "plt.title('Total patients in each age stage', fontsize=15, fontweight='bold');\n",
    "plt.xlabel('Age stage', fontsize=12);\n",
    "plt.ylabel('Number of patients', fontsize=12);\n"
   ]
  },
  {
   "cell_type": "markdown",
   "metadata": {},
   "source": [
    "* We notice that the age stage that has the most number of patients is 35 to 54 years.\n",
    "* Because of that change in the number of patients in each stage we will make an analysis on proportions, not values."
   ]
  },
  {
   "cell_type": "code",
   "execution_count": null,
   "metadata": {},
   "outputs": [],
   "source": [
    "propotions = get_propotions('Age_stage', df)\n",
    "\n",
    "propotions.unstack().plot.bar(color=['#76528BFF', '#D7C49EFF'], figsize=(8, 6));\n",
    "\n",
    "plt.ylabel('Avg num of patients')\n",
    "plt.title('Relation between Age stages & No-show', fontsize=15, fontweight='bold')\n",
    "plt.xticks(rotation=0);\n",
    "plt.legend(labels=['Showed up', 'Did not show up'], fontsize=14, bbox_to_anchor=(1.05, 0.6));"
   ]
  },
  {
   "cell_type": "markdown",
   "metadata": {},
   "source": [
    "> Most people who showed up in Descending order from the age stages:\n",
    ">    1. 55 to 74 years old.\n",
    ">    2. more than 74 years old.\n",
    ">    3. 0 to 5 years old.\n",
    "    \n",
    "    \n",
    "> Most people who Did not show up in Descending order from the age stages:\n",
    ">    1. 10 to 17 years old.\n",
    ">    2. 18 to 34 years old. "
   ]
  },
  {
   "cell_type": "code",
   "execution_count": null,
   "metadata": {},
   "outputs": [],
   "source": [
    "Total_patients_showed_inStage = df.query('No_show == 0').groupby('Age_stage')['PatientId'].count()\n",
    "propotions = Total_patients_showed_inStage / Total_patients_inStatges\n",
    "\n",
    "propotions.plot(color='#76528BFF', figsize=(7, 5));\n",
    "plt.title('Avg of patients who \"SHOWED UP\" in Age-stages', fontsize=15, fontweight='bold');\n",
    "plt.ylabel('Avg of patients who showed up');"
   ]
  },
  {
   "cell_type": "markdown",
   "metadata": {},
   "source": [
    "* We can notice that in the young and old age stages, attendance increases\\\n",
    "and decreases dramatically in the middle age stages. As we see that decrease\\\n",
    "from The stage 6 to 9 years till it began to increase at the stage of 35 to 54 till the end.\n",
    "\n",
    "> **So, there is a relationship between the age stage and the showing up!**"
   ]
  },
  {
   "cell_type": "markdown",
   "metadata": {},
   "source": [
    "### 5) Do Receiving messages have an effect on comming to the appointment? "
   ]
  },
  {
   "cell_type": "code",
   "execution_count": null,
   "metadata": {},
   "outputs": [],
   "source": [
    "propotions = get_propotions('SMS_received', df)\n",
    "\n",
    "PlotPropotions(propotions, 'SMS_received', '#603F83FF', '#C7D3D4FF', 'SMS Did not recieve', 'SMS Recieved')"
   ]
  },
  {
   "cell_type": "markdown",
   "metadata": {},
   "source": [
    "> * **Patients who didn't receive the SMS showed up more than those who received it.**\n",
    "> * But there are also patients who showed up however they received an SMS.\n",
    "> * This may be because the SMS messages were sent to those who didn't come on their booked appointment day."
   ]
  },
  {
   "cell_type": "markdown",
   "metadata": {},
   "source": [
    "### 6) What is the relation between diseases and showing up?"
   ]
  },
  {
   "cell_type": "code",
   "execution_count": null,
   "metadata": {},
   "outputs": [],
   "source": [
    "propotions = get_propotions('Hipertension', df)\n",
    "\n",
    "PlotPropotions(propotions, 'Hipertension', '#FAD0C9FF', '#6E6E6DFF', 'Without Hipertension', 'With Hipertension')"
   ]
  },
  {
   "cell_type": "markdown",
   "metadata": {},
   "source": [
    "* Patients who had Hipertension Showed up more than those who hadn't Hypertension but not greatly.\n",
    "\n",
    "> **Hipertension Did not have a great effect on showing up or not**"
   ]
  },
  {
   "cell_type": "code",
   "execution_count": null,
   "metadata": {},
   "outputs": [],
   "source": [
    "propotions = get_propotions('Diabetes', df)\n",
    "\n",
    "PlotPropotions(propotions, 'Diabetes', '#00539CFF', '#D7C49EFF', 'Without Diabetes', 'With Diabetes')"
   ]
  },
  {
   "cell_type": "markdown",
   "metadata": {},
   "source": [
    "* Patients who had Diabetes Showed up more than those who hadn't Diabetes but greatly.\n",
    "\n",
    "> **Diabetes Did not have a great effect on showing up or not**"
   ]
  },
  {
   "cell_type": "code",
   "execution_count": null,
   "metadata": {},
   "outputs": [],
   "source": [
    "propotions = get_propotions('Alcoholism', df)\n",
    "\n",
    "PlotPropotions(propotions, 'Alcoholism', '#DF6589FF', '#3C1053FF', 'Without Alcoholism', 'With Alcoholism')"
   ]
  },
  {
   "cell_type": "markdown",
   "metadata": {},
   "source": [
    "> We can see that **Alcoholism did not have any effect on showing up or not.**"
   ]
  },
  {
   "cell_type": "code",
   "execution_count": null,
   "metadata": {},
   "outputs": [],
   "source": [
    "propotions = get_propotions('Handcap', df)\n",
    "\n",
    "PlotPropotions(propotions, 'Handcap', '#4B878BFF', '#D01C1FFF', 'Without Handcap', 'With Handcap')"
   ]
  },
  {
   "cell_type": "markdown",
   "metadata": {},
   "source": [
    "* Patients who had Handcap Showed up more than those who hadn't Diabetes but not greatly.\n",
    "\n",
    "> **Handcap Did not have a great effect on showing up or not**"
   ]
  },
  {
   "cell_type": "markdown",
   "metadata": {},
   "source": [
    "### 7) Does Enroll in the Brasilian welfare program Bolsa Família affects showing up?"
   ]
  },
  {
   "cell_type": "code",
   "execution_count": null,
   "metadata": {},
   "outputs": [],
   "source": [
    "propotions = get_propotions('Scholarship', df)\n",
    "\n",
    "PlotPropotions(propotions, 'Enrolling on the Scholarship', 'b', 'r', 'Did not Enrolled', 'Enrolled')"
   ]
  },
  {
   "cell_type": "markdown",
   "metadata": {},
   "source": [
    "> **Patients who did not enroll** in the Brasilian welfare program Bolsa Família **showed up** more than those who enrolled in it."
   ]
  },
  {
   "cell_type": "markdown",
   "metadata": {},
   "source": [
    "### 8) What are the hospitals with the maximum proportion of showing up?"
   ]
  },
  {
   "cell_type": "code",
   "execution_count": null,
   "metadata": {},
   "outputs": [],
   "source": [
    "propotions = get_propotions('Neighbourhood', df)\n",
    "Best5 = propotions.sort_values(ascending=False)[0:10:2]\n",
    "\n",
    "Best5.unstack().plot(kind='bar', legend=False, figsize=(10, 4))\n",
    "# propotions.plot(color='b', figsize=(7, 5));\n",
    "plt.title('Best 5 Hospitals which showed up more appointments', fontsize=15, fontweight='bold');\n",
    "plt.ylabel('Avg of patients who showed up', fontweight='bold');\n",
    "plt.xticks(rotation=0);\n",
    "plt.xlabel('');"
   ]
  },
  {
   "cell_type": "markdown",
   "metadata": {},
   "source": [
    "* We notice that the most 2 hospitals with the maximum proportion of showing up are:\n",
    "    1. PARQUE INDUSTRIA.\n",
    "    2. ILHA DO BOI\n",
    "    \n",
    "* The reason may be they are the nearest hospitals for the majority of the patients."
   ]
  },
  {
   "cell_type": "markdown",
   "metadata": {},
   "source": [
    "<a id='conclusions'></a>\n",
    "## Conclusions\n",
    "\n",
    "> * The **Appointment Day did not affect greatly showing up.** But the descending order of the days depending on the chance of showing up on it is:\n",
    "    1. **Thursday.**\n",
    "    2. Wednesday.\n",
    "    3. Tuesday.\n",
    "    4. Monday.\n",
    "    5. Friday.\n",
    "    6. **Saturday.**\n",
    ">\n",
    ">\n",
    "> *  As more as the number of **waiting days increase**, the chance to **miss the appointments increase.**\n",
    ">\n",
    ">\n",
    "> * **Gender did not have an effect on showing up or not.**\n",
    ">\n",
    ">\n",
    "> * For the more younger or older patients, the chance to show up increases but it decreases for those in their mid-age, and the descending order of the age stages who are likely to show up is:\n",
    ">\n",
    ">    1. **55 to 74 years old.**\n",
    ">    2. above 74 years old.\n",
    ">    3. 0 to 5 years old.\n",
    ">    4. 35 to 54 years old.\n",
    ">    5. 6 to 9 years old.\n",
    ">    6. 18 to 34 years old.\n",
    ">    7. **10 to 17 years old.**\n",
    ">  \n",
    ">\n",
    "> * **Patients who didn't receive the SMS showed up more than those who received it.** As the SMS messages are sent to those who did not come on their scheduled days not who come.\n",
    ">\n",
    ">\n",
    "> * **Patients who have diseases** like Diabetes, Hypertension, and handicaps are more likely to **show up.** than whose have not.\n",
    ">\n",
    ">\n",
    "> * **Alcoholism did not have any effect** on showing up or not.\n",
    ">\n",
    ">\n",
    "> * Patients who **did not enroll in the Brasilian welfare program Bolsa Família showed up** more than those who enrolled in it."
   ]
  },
  {
   "cell_type": "markdown",
   "metadata": {},
   "source": [
    "## The Dataset has 2 main Limititions.\n",
    "\n",
    "> *  there are many not making sense values like:\n",
    ">   1. Ages < 0.\n",
    ">   2. Ages are considered outliers. \n",
    ">   3. Appointment Days before their scheduled days.\n",
    ">\n",
    ">\n",
    "> * There are Different numbers of rows for each category in columns like:\n",
    ">    1. The number of Females greater than the number of males.\n",
    ">    2. Number of data for specific days are greater than others.\n",
    ">\n",
    ">   but we handled it by taking **proportions.**"
   ]
  }
 ],
 "metadata": {
  "interpreter": {
   "hash": "6a8ab12e6b3ed4ebc099bdb603e12ed98d3b4a6cb4b5889ce835d57d89267821"
  },
  "kernelspec": {
   "display_name": "Python 3 (ipykernel)",
   "language": "python",
   "name": "python3"
  },
  "language_info": {
   "codemirror_mode": {
    "name": "ipython",
    "version": 3
   },
   "file_extension": ".py",
   "mimetype": "text/x-python",
   "name": "python",
   "nbconvert_exporter": "python",
   "pygments_lexer": "ipython3",
   "version": "3.10.0"
  }
 },
 "nbformat": 4,
 "nbformat_minor": 2
}
